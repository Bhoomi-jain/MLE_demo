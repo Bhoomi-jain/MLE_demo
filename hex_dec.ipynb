{
 "cells": [
  {
   "cell_type": "code",
   "execution_count": 13,
   "metadata": {},
   "outputs": [],
   "source": [
    "def hex_dict():\n",
    "    for i in range(0, 10):\n",
    "        hex_dict[i] = str(i)\n",
    "\n",
    "    for i, j  in enumerate(['A','B','C','D','E','F']):\n",
    "        hex_dict[(10+i)] = str(j)  "
   ]
  },
  {
   "cell_type": "code",
   "execution_count": 14,
   "metadata": {},
   "outputs": [
    {
     "data": {
      "text/plain": [
       "<function __main__.hex_dict()>"
      ]
     },
     "execution_count": 14,
     "metadata": {},
     "output_type": "execute_result"
    }
   ],
   "source": [
    "hex_dict"
   ]
  },
  {
   "cell_type": "code",
   "execution_count": 15,
   "metadata": {},
   "outputs": [],
   "source": [
    "def hex(num, hexa ):\n",
    "    if num == 0:\n",
    "        return hexa [::-1]\n",
    "    rem = num % 16\n",
    "    hexa = hexa + hex_dict[rem]\n",
    "    num = num//16\n",
    "    result = hex(num,hexa)\n",
    "    return result"
   ]
  },
  {
   "cell_type": "code",
   "execution_count": 16,
   "metadata": {},
   "outputs": [
    {
     "ename": "TypeError",
     "evalue": "'function' object is not subscriptable",
     "output_type": "error",
     "traceback": [
      "\u001b[0;31m---------------------------------------------------------------------------\u001b[0m",
      "\u001b[0;31mTypeError\u001b[0m                                 Traceback (most recent call last)",
      "Cell \u001b[0;32mIn[16], line 1\u001b[0m\n\u001b[0;32m----> 1\u001b[0m \u001b[38;5;28;43mhex\u001b[39;49m\u001b[43m(\u001b[49m\u001b[38;5;241;43m216\u001b[39;49m\u001b[43m,\u001b[49m\u001b[38;5;124;43m\"\u001b[39;49m\u001b[38;5;124;43m\"\u001b[39;49m\u001b[43m)\u001b[49m\n",
      "Cell \u001b[0;32mIn[15], line 5\u001b[0m, in \u001b[0;36mhex\u001b[0;34m(num, hexa)\u001b[0m\n\u001b[1;32m      3\u001b[0m     \u001b[38;5;28;01mreturn\u001b[39;00m hexa [::\u001b[38;5;241m-\u001b[39m\u001b[38;5;241m1\u001b[39m]\n\u001b[1;32m      4\u001b[0m rem \u001b[38;5;241m=\u001b[39m num \u001b[38;5;241m%\u001b[39m \u001b[38;5;241m16\u001b[39m\n\u001b[0;32m----> 5\u001b[0m hexa \u001b[38;5;241m=\u001b[39m hexa \u001b[38;5;241m+\u001b[39m \u001b[43mhex_dict\u001b[49m\u001b[43m[\u001b[49m\u001b[43mrem\u001b[49m\u001b[43m]\u001b[49m\n\u001b[1;32m      6\u001b[0m num \u001b[38;5;241m=\u001b[39m num\u001b[38;5;241m/\u001b[39m\u001b[38;5;241m/\u001b[39m\u001b[38;5;241m16\u001b[39m\n\u001b[1;32m      7\u001b[0m result \u001b[38;5;241m=\u001b[39m \u001b[38;5;28mhex\u001b[39m(num,hexa)\n",
      "\u001b[0;31mTypeError\u001b[0m: 'function' object is not subscriptable"
     ]
    }
   ],
   "source": [
    "hex(216,\"\")"
   ]
  },
  {
   "cell_type": "code",
   "execution_count": null,
   "metadata": {},
   "outputs": [],
   "source": []
  }
 ],
 "metadata": {
  "kernelspec": {
   "display_name": "Python 3",
   "language": "python",
   "name": "python3"
  },
  "language_info": {
   "codemirror_mode": {
    "name": "ipython",
    "version": 3
   },
   "file_extension": ".py",
   "mimetype": "text/x-python",
   "name": "python",
   "nbconvert_exporter": "python",
   "pygments_lexer": "ipython3",
   "version": "3.12.1"
  }
 },
 "nbformat": 4,
 "nbformat_minor": 2
}
