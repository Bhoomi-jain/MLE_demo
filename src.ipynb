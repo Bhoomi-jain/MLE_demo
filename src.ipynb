{
 "cells": [
  {
   "cell_type": "code",
   "execution_count": 1,
   "metadata": {},
   "outputs": [],
   "source": [
    "import pandas as pd\n",
    "import numpy as np\n",
    "import matplotlib.pyplot as plt\n",
    "import scipy.stats as s\n",
    "import seaborn as sns"
   ]
  },
  {
   "cell_type": "code",
   "execution_count": 2,
   "metadata": {},
   "outputs": [],
   "source": [
    "training_data = pd.DataFrame(data={\"x\":np.random.normal(loc=65,scale=5,size=1000)})"
   ]
  },
  {
   "cell_type": "code",
   "execution_count": 3,
   "metadata": {},
   "outputs": [
    {
     "data": {
      "text/html": [
       "<div>\n",
       "<style scoped>\n",
       "    .dataframe tbody tr th:only-of-type {\n",
       "        vertical-align: middle;\n",
       "    }\n",
       "\n",
       "    .dataframe tbody tr th {\n",
       "        vertical-align: top;\n",
       "    }\n",
       "\n",
       "    .dataframe thead th {\n",
       "        text-align: right;\n",
       "    }\n",
       "</style>\n",
       "<table border=\"1\" class=\"dataframe\">\n",
       "  <thead>\n",
       "    <tr style=\"text-align: right;\">\n",
       "      <th></th>\n",
       "      <th>x</th>\n",
       "    </tr>\n",
       "  </thead>\n",
       "  <tbody>\n",
       "    <tr>\n",
       "      <th>0</th>\n",
       "      <td>74.943257</td>\n",
       "    </tr>\n",
       "    <tr>\n",
       "      <th>1</th>\n",
       "      <td>66.961104</td>\n",
       "    </tr>\n",
       "    <tr>\n",
       "      <th>2</th>\n",
       "      <td>70.270951</td>\n",
       "    </tr>\n",
       "    <tr>\n",
       "      <th>3</th>\n",
       "      <td>60.178049</td>\n",
       "    </tr>\n",
       "    <tr>\n",
       "      <th>4</th>\n",
       "      <td>64.687645</td>\n",
       "    </tr>\n",
       "    <tr>\n",
       "      <th>...</th>\n",
       "      <td>...</td>\n",
       "    </tr>\n",
       "    <tr>\n",
       "      <th>995</th>\n",
       "      <td>58.134949</td>\n",
       "    </tr>\n",
       "    <tr>\n",
       "      <th>996</th>\n",
       "      <td>52.020308</td>\n",
       "    </tr>\n",
       "    <tr>\n",
       "      <th>997</th>\n",
       "      <td>69.481737</td>\n",
       "    </tr>\n",
       "    <tr>\n",
       "      <th>998</th>\n",
       "      <td>58.958656</td>\n",
       "    </tr>\n",
       "    <tr>\n",
       "      <th>999</th>\n",
       "      <td>67.178423</td>\n",
       "    </tr>\n",
       "  </tbody>\n",
       "</table>\n",
       "<p>1000 rows × 1 columns</p>\n",
       "</div>"
      ],
      "text/plain": [
       "             x\n",
       "0    74.943257\n",
       "1    66.961104\n",
       "2    70.270951\n",
       "3    60.178049\n",
       "4    64.687645\n",
       "..         ...\n",
       "995  58.134949\n",
       "996  52.020308\n",
       "997  69.481737\n",
       "998  58.958656\n",
       "999  67.178423\n",
       "\n",
       "[1000 rows x 1 columns]"
      ]
     },
     "execution_count": 3,
     "metadata": {},
     "output_type": "execute_result"
    }
   ],
   "source": [
    "training_data"
   ]
  },
  {
   "cell_type": "code",
   "execution_count": 4,
   "metadata": {},
   "outputs": [
    {
     "data": {
      "text/plain": [
       "(array([  1.,   1.,   3.,  10.,  17.,  28.,  40.,  67.,  97., 116., 134.,\n",
       "        113., 121.,  92.,  56.,  42.,  35.,  17.,   7.,   3.]),\n",
       " array([47.57333593, 49.15737218, 50.74140844, 52.32544469, 53.90948094,\n",
       "        55.49351719, 57.07755344, 58.66158969, 60.24562594, 61.82966219,\n",
       "        63.41369845, 64.9977347 , 66.58177095, 68.1658072 , 69.74984345,\n",
       "        71.3338797 , 72.91791595, 74.50195221, 76.08598846, 77.67002471,\n",
       "        79.25406096]),\n",
       " <BarContainer object of 20 artists>)"
      ]
     },
     "execution_count": 4,
     "metadata": {},
     "output_type": "execute_result"
    },
    {
     "data": {
      "image/png": "[encoded data removed]",
      "text/plain": [
       "<Figure size 640x480 with 1 Axes>"
      ]
     },
     "metadata": {},
     "output_type": "display_data"
    }
   ],
   "source": [
    "plt.hist(training_data, bins=20)"
   ]
  },
  {
   "cell_type": "code",
   "execution_count": 5,
   "metadata": {},
   "outputs": [],
   "source": [
    "mu_values = np.linspace(63, 67, 200)\n",
    "sigma_values = np.linspace(4, 6, 200)\n",
    "mu_grid, sigma_grid = np.meshgrid(mu_values, sigma_values)"
   ]
  },
  {
   "cell_type": "code",
   "execution_count": 6,
   "metadata": {},
   "outputs": [],
   "source": [
    "nll_values = np.zeros_like(mu_grid)"
   ]
  },
  {
   "cell_type": "code",
   "execution_count": 7,
   "metadata": {},
   "outputs": [],
   "source": [
    "def gaussian_nll(mu,sigma):\n",
    "\n",
    "    log_pdf = s.norm.logpdf(training_data,mu,sigma)\n",
    "    return -np.mean(log_pdf)"
   ]
  },
  {
   "cell_type": "code",
   "execution_count": 8,
   "metadata": {},
   "outputs": [],
   "source": [
    "for i in range(mu_grid.shape[0]):\n",
    "    for j in range(mu_grid.shape[1]):\n",
    "        nll_values[i, j] = gaussian_nll(mu_grid[i, j], sigma_grid[i, j])"
   ]
  },
  {
   "cell_type": "code",
   "execution_count": null,
   "metadata": {},
   "outputs": [],
   "source": [
    "fig = plt.figure(figsize=(12, 8))\n",
    "ax = fig.add_subplot(111, projection='3d')\n",
    "\n",
    "ax.plot_surface(mu_grid, sigma_grid, nll_values, cmap='viridis', edgecolor='none')\n",
    "ax.set_xlabel('Mean (mu)')\n",
    "ax.set_ylabel('Standard Deviation (sigma)')\n",
    "ax.set_zlabel('Negative Log Likelihood (NLL)')\n",
    "ax.set_title('3D Plot of Negative Log Likelihood Function (Convex Surface)')\n",
    "\n",
    "# Adjusting the view angle to better visualize the convexity\n",
    "ax.view_init(elev=45, azim=225)\n",
    "\n",
    "plt.show()"
   ]
  },
  {
   "cell_type": "code",
   "execution_count": null,
   "metadata": {},
   "outputs": [],
   "source": [
    "def del_by_del_gaussian_nll(mu_initial,sigma_initial):\n",
    "\n",
    "    del_by_del_mu = -np.mean(training_data - mu_initial)/sigma_initial**2\n",
    "    del_by_del_sigma = (1/sigma_initial) - np.mean(training_data - mu_initial)**2/sigma_initial**3\n",
    "\n",
    "    return [del_by_del_mu,del_by_del_sigma]"
   ]
  },
  {
   "cell_type": "code",
   "execution_count": null,
   "metadata": {},
   "outputs": [],
   "source": [
    "epsilon = 10**(-2)\n",
    "epoch_counter = 0\n",
    "mu_initial = 5\n",
    "sigma_initial = 1\n",
    "tol = 10**(-6)\n",
    "\n",
    "while True:\n",
    "\n",
    "    initial_gradients = del_by_del_gaussian_nll(mu_initial,sigma_initial)\n",
    "\n",
    "    mu_final = mu_initial - (epsilon * initial_gradients[0])\n",
    "    sigma_final = sigma_initial - (epsilon * initial_gradients[1])\n",
    "\n",
    "    nll_initial_value = gaussian_nll(mu_initial,sigma_initial)\n",
    "    nll_final_value = gaussian_nll(mu_final,sigma_final)\n",
    "\n",
    "    if abs(nll_initial_value - nll_final_value) < tol:\n",
    "        break\n",
    "\n",
    "    epoch_counter += 1\n",
    "\n",
    "    mu_initial = mu_final\n",
    "    sigma_initial = sigma_final\n",
    "\n",
    "    print(\"Epoch # {}, NLL Value = {}\".format(epoch_counter,nll_initial_value))"
   ]
  },
  {
   "cell_type": "code",
   "execution_count": null,
   "metadata": {},
   "outputs": [],
   "source": [
    "mu_final"
   ]
  },
  {
   "cell_type": "code",
   "execution_count": null,
   "metadata": {},
   "outputs": [],
   "source": [
    "sigma_final"
   ]
  },
  {
   "cell_type": "code",
   "execution_count": null,
   "metadata": {},
   "outputs": [],
   "source": [
    "sns.distplot(a=training_data[\"x\"],bins=10,fit=s.norm,kde=False)"
   ]
  },
  {
   "cell_type": "code",
   "execution_count": null,
   "metadata": {},
   "outputs": [],
   "source": [
    "def del_by_del_rayleigh_nll(sigma_initial):\n",
    "\n",
    "    del_by_del_sigma = -np.mean((-2)/sigma_initial + training_data**2/sigma_initial**3)\n",
    "\n",
    "    return del_by_del_sigma"
   ]
  },
  {
   "cell_type": "code",
   "execution_count": null,
   "metadata": {},
   "outputs": [],
   "source": [
    "def rayleigh_nll(sigma):\n",
    "\n",
    "    log_pdf = -np.mean(s.rayleigh.logpdf(training_data,sigma))\n",
    "\n",
    "    return log_pdf"
   ]
  },
  {
   "cell_type": "code",
   "execution_count": null,
   "metadata": {},
   "outputs": [],
   "source": [
    "epsilon = 10**(-2)\n",
    "epoch_counter = 0\n",
    "sigma_initial = 1\n",
    "tol = 10**(-6)\n",
    "\n",
    "while True:\n",
    "\n",
    "    initial_gradients = del_by_del_rayleigh_nll(sigma_initial)\n",
    "\n",
    "    sigma_final = sigma_initial - (epsilon * initial_gradients)\n",
    "\n",
    "    nll_initial_value = rayleigh_nll(sigma_initial)\n",
    "    nll_final_value = rayleigh_nll(sigma_final)\n",
    "\n",
    "    if abs(nll_initial_value - nll_final_value) < tol:\n",
    "        break\n",
    "\n",
    "    epoch_counter += 1\n",
    "    sigma_initial = sigma_final\n",
    "\n",
    "    print(\"Epoch # {}, NLL Value = {}\".format(epoch_counter,nll_initial_value))"
   ]
  },
  {
   "cell_type": "code",
   "execution_count": null,
   "metadata": {},
   "outputs": [],
   "source": []
  }
 ],
 "metadata": {
  "kernelspec": {
   "display_name": ".venv",
   "language": "python",
   "name": "python3"
  },
  "language_info": {
   "codemirror_mode": {
    "name": "ipython",
    "version": 3
   },
   "file_extension": ".py",
   "mimetype": "text/x-python",
   "name": "python",
   "nbconvert_exporter": "python",
   "pygments_lexer": "ipython3",
   "version": "3.12.1"
  }
 },
 "nbformat": 4,
 "nbformat_minor": 2
}
