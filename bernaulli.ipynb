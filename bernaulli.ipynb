{
 "cells": [
  {
   "cell_type": "code",
   "execution_count": 23,
   "metadata": {},
   "outputs": [],
   "source": [
    "import pandas as pd\n",
    "import numpy as np\n",
    "import matplotlib.pyplot as plt\n",
    "import scipy.stats as s\n",
    "import seaborn as sns\n",
    "from scipy.stats import bernoulli\n",
    "import random"
   ]
  },
  {
   "cell_type": "code",
   "execution_count": 24,
   "metadata": {},
   "outputs": [],
   "source": [
    "training_data = pd.DataFrame(data={\"x\":np.random.binomial(n = 1,p = 0.5,size=1000)})"
   ]
  },
  {
   "cell_type": "code",
   "execution_count": 25,
   "metadata": {},
   "outputs": [
    {
     "data": {
      "text/html": [
       "<div>\n",
       "<style scoped>\n",
       "    .dataframe tbody tr th:only-of-type {\n",
       "        vertical-align: middle;\n",
       "    }\n",
       "\n",
       "    .dataframe tbody tr th {\n",
       "        vertical-align: top;\n",
       "    }\n",
       "\n",
       "    .dataframe thead th {\n",
       "        text-align: right;\n",
       "    }\n",
       "</style>\n",
       "<table border=\"1\" class=\"dataframe\">\n",
       "  <thead>\n",
       "    <tr style=\"text-align: right;\">\n",
       "      <th></th>\n",
       "      <th>x</th>\n",
       "    </tr>\n",
       "  </thead>\n",
       "  <tbody>\n",
       "    <tr>\n",
       "      <th>0</th>\n",
       "      <td>0</td>\n",
       "    </tr>\n",
       "    <tr>\n",
       "      <th>1</th>\n",
       "      <td>0</td>\n",
       "    </tr>\n",
       "    <tr>\n",
       "      <th>2</th>\n",
       "      <td>0</td>\n",
       "    </tr>\n",
       "    <tr>\n",
       "      <th>3</th>\n",
       "      <td>0</td>\n",
       "    </tr>\n",
       "    <tr>\n",
       "      <th>4</th>\n",
       "      <td>1</td>\n",
       "    </tr>\n",
       "    <tr>\n",
       "      <th>...</th>\n",
       "      <td>...</td>\n",
       "    </tr>\n",
       "    <tr>\n",
       "      <th>995</th>\n",
       "      <td>1</td>\n",
       "    </tr>\n",
       "    <tr>\n",
       "      <th>996</th>\n",
       "      <td>0</td>\n",
       "    </tr>\n",
       "    <tr>\n",
       "      <th>997</th>\n",
       "      <td>0</td>\n",
       "    </tr>\n",
       "    <tr>\n",
       "      <th>998</th>\n",
       "      <td>0</td>\n",
       "    </tr>\n",
       "    <tr>\n",
       "      <th>999</th>\n",
       "      <td>0</td>\n",
       "    </tr>\n",
       "  </tbody>\n",
       "</table>\n",
       "<p>1000 rows × 1 columns</p>\n",
       "</div>"
      ],
      "text/plain": [
       "     x\n",
       "0    0\n",
       "1    0\n",
       "2    0\n",
       "3    0\n",
       "4    1\n",
       "..  ..\n",
       "995  1\n",
       "996  0\n",
       "997  0\n",
       "998  0\n",
       "999  0\n",
       "\n",
       "[1000 rows x 1 columns]"
      ]
     },
     "execution_count": 25,
     "metadata": {},
     "output_type": "execute_result"
    }
   ],
   "source": [
    "training_data"
   ]
  },
  {
   "cell_type": "code",
   "execution_count": 26,
   "metadata": {},
   "outputs": [
    {
     "data": {
      "text/plain": [
       "(array([487.,   0.,   0.,   0.,   0.,   0.,   0.,   0.,   0.,   0.,   0.,\n",
       "          0.,   0.,   0.,   0.,   0.,   0.,   0.,   0., 513.]),\n",
       " array([0.  , 0.05, 0.1 , 0.15, 0.2 , 0.25, 0.3 , 0.35, 0.4 , 0.45, 0.5 ,\n",
       "        0.55, 0.6 , 0.65, 0.7 , 0.75, 0.8 , 0.85, 0.9 , 0.95, 1.  ]),\n",
       " <BarContainer object of 20 artists>)"
      ]
     },
     "execution_count": 26,
     "metadata": {},
     "output_type": "execute_result"
    },
    {
     "data": {
      "image/png": "[encoded data removed]",
      "text/plain": [
       "<Figure size 640x480 with 1 Axes>"
      ]
     },
     "metadata": {},
     "output_type": "display_data"
    }
   ],
   "source": [
    "plt.hist(training_data, bins=20)"
   ]
  },
  {
   "cell_type": "code",
   "execution_count": 27,
   "metadata": {},
   "outputs": [],
   "source": [
    "def bernaulli_nll(p):\n",
    "    log_pdf = -np.mean(s.bernoulli.logpmf(training_data, p))\n",
    "    return log_pdf                    "
   ]
  },
  {
   "cell_type": "code",
   "execution_count": 31,
   "metadata": {},
   "outputs": [],
   "source": [
    "def del_by_del_bernaulli_nll(p_initial):\n",
    "     del_by_del_p = np.mean((p_initial-training_data)/(p_initial*(1-p_initial)))\n",
    "     return del_by_del_p"
   ]
  },
  {
   "cell_type": "code",
   "execution_count": 32,
   "metadata": {},
   "outputs": [
    {
     "name": "stdout",
     "output_type": "stream",
     "text": [
      "Epoch # 1, NLL Value = 1.0128881356507082\n",
      "Epoch # 2, NLL Value = 0.9479409719742127\n",
      "Epoch # 3, NLL Value = 0.9047278004731472\n",
      "Epoch # 4, NLL Value = 0.8729976217076171\n",
      "Epoch # 5, NLL Value = 0.8483879853586493\n",
      "Epoch # 6, NLL Value = 0.8286168156835685\n",
      "Epoch # 7, NLL Value = 0.8123366593746224\n",
      "Epoch # 8, NLL Value = 0.7986847835161509\n",
      "Epoch # 9, NLL Value = 0.7870755635328023\n",
      "Epoch # 10, NLL Value = 0.7770934614007209\n",
      "Epoch # 11, NLL Value = 0.7684331736824037\n",
      "Epoch # 12, NLL Value = 0.7608639891296293\n",
      "Epoch # 13, NLL Value = 0.754207473262702\n",
      "Epoch # 14, NLL Value = 0.7483229128277273\n",
      "Epoch # 15, NLL Value = 0.7430974917693792\n",
      "Epoch # 16, NLL Value = 0.738439465753388\n",
      "Epoch # 17, NLL Value = 0.734273300426118\n",
      "Epoch # 18, NLL Value = 0.730536132630144\n",
      "Epoch # 19, NLL Value = 0.7271751451359487\n",
      "Epoch # 20, NLL Value = 0.7241455859981577\n",
      "Epoch # 21, NLL Value = 0.7214092516277512\n",
      "Epoch # 22, NLL Value = 0.7189333092246718\n",
      "Epoch # 23, NLL Value = 0.7166893714316441\n",
      "Epoch # 24, NLL Value = 0.7146527610835107\n",
      "Epoch # 25, NLL Value = 0.7128019210609883\n",
      "Epoch # 26, NLL Value = 0.7111179361993273\n",
      "Epoch # 27, NLL Value = 0.7095841426564458\n",
      "Epoch # 28, NLL Value = 0.7081858062168386\n",
      "Epoch # 29, NLL Value = 0.7069098554261433\n",
      "Epoch # 30, NLL Value = 0.7057446587061345\n",
      "Epoch # 31, NLL Value = 0.7046798370246659\n",
      "Epoch # 32, NLL Value = 0.7037061055203541\n",
      "Epoch # 33, NLL Value = 0.7028151388691845\n",
      "Epoch # 34, NLL Value = 0.7019994562443386\n",
      "Epoch # 35, NLL Value = 0.7012523225436689\n",
      "Epoch # 36, NLL Value = 0.7005676632009731\n",
      "Epoch # 37, NLL Value = 0.6999399904013146\n",
      "Epoch # 38, NLL Value = 0.6993643389193493\n",
      "Epoch # 39, NLL Value = 0.6988362101170938\n",
      "Epoch # 40, NLL Value = 0.6983515228919357\n",
      "Epoch # 41, NLL Value = 0.6979065705706968\n",
      "Epoch # 42, NLL Value = 0.6974979829117118\n",
      "Epoch # 43, NLL Value = 0.6971226925122751\n",
      "Epoch # 44, NLL Value = 0.6967779050296877\n",
      "Epoch # 45, NLL Value = 0.6964610727153769\n",
      "Epoch # 46, NLL Value = 0.6961698708369982\n",
      "Epoch # 47, NLL Value = 0.6959021766260902\n",
      "Epoch # 48, NLL Value = 0.6956560504410725\n",
      "Epoch # 49, NLL Value = 0.6954297188791576\n",
      "Epoch # 50, NLL Value = 0.695221559607505\n",
      "Epoch # 51, NLL Value = 0.6950300877149966\n",
      "Epoch # 52, NLL Value = 0.6948539434123028\n",
      "Epoch # 53, NLL Value = 0.6946918809302534\n",
      "Epoch # 54, NLL Value = 0.6945427584855934\n",
      "Epoch # 55, NLL Value = 0.6944055291995048\n",
      "Epoch # 56, NLL Value = 0.6942792328682912\n",
      "Epoch # 57, NLL Value = 0.694162988497677\n",
      "Epoch # 58, NLL Value = 0.6940559875225888\n",
      "Epoch # 59, NLL Value = 0.6939574876433182\n",
      "Epoch # 60, NLL Value = 0.6938668072167976\n",
      "Epoch # 61, NLL Value = 0.6937833201485678\n",
      "Epoch # 62, NLL Value = 0.6937064512369617\n",
      "Epoch # 63, NLL Value = 0.6936356719262825\n",
      "Epoch # 64, NLL Value = 0.6935704964303195\n",
      "Epoch # 65, NLL Value = 0.6935104781915991\n",
      "Epoch # 66, NLL Value = 0.6934552066453304\n",
      "Epoch # 67, NLL Value = 0.693404304260148\n",
      "Epoch # 68, NLL Value = 0.6933574238305543\n",
      "Epoch # 69, NLL Value = 0.6933142459984452\n",
      "Epoch # 70, NLL Value = 0.6932744769832976\n",
      "Epoch # 71, NLL Value = 0.6932378465025774\n",
      "Epoch # 72, NLL Value = 0.6932041058656737\n",
      "Epoch # 73, NLL Value = 0.693173026226245\n",
      "Epoch # 74, NLL Value = 0.6931443969792607\n",
      "Epoch # 75, NLL Value = 0.6931180242902979\n",
      "Epoch # 76, NLL Value = 0.6930937297457826\n",
      "Epoch # 77, NLL Value = 0.6930713491138917\n",
      "Epoch # 78, NLL Value = 0.6930507312067511\n",
      "Epoch # 79, NLL Value = 0.6930317368354058\n",
      "Epoch # 80, NLL Value = 0.6930142378497841\n",
      "Epoch # 81, NLL Value = 0.6929981162565596\n",
      "Epoch # 82, NLL Value = 0.6929832634084451\n",
      "Epoch # 83, NLL Value = 0.6929695792589915\n",
      "Epoch # 84, NLL Value = 0.6929569716774922\n",
      "Epoch # 85, NLL Value = 0.6929453558190467\n",
      "Epoch # 86, NLL Value = 0.6929346535452595\n",
      "Epoch # 87, NLL Value = 0.6929247928914337\n",
      "Epoch # 88, NLL Value = 0.6929157075764647\n",
      "Epoch # 89, NLL Value = 0.6929073365519648\n",
      "Epoch # 90, NLL Value = 0.6928996235874259\n",
      "Epoch # 91, NLL Value = 0.6928925168885105\n",
      "Epoch # 92, NLL Value = 0.6928859687457855\n",
      "Epoch # 93, NLL Value = 0.6928799352114458\n",
      "Epoch # 94, NLL Value = 0.6928743758017728\n",
      "Epoch # 95, NLL Value = 0.692869253223258\n",
      "Epoch # 96, NLL Value = 0.6928645331204907\n",
      "Epoch # 97, NLL Value = 0.6928601838440691\n",
      "Epoch # 98, NLL Value = 0.6928561762369223\n",
      "Epoch # 99, NLL Value = 0.692852483437584\n",
      "Epoch # 100, NLL Value = 0.69284908069905\n",
      "Epoch # 101, NLL Value = 0.6928459452219873\n",
      "Epoch # 102, NLL Value = 0.6928430560011443\n",
      "Epoch # 103, NLL Value = 0.6928403936839126\n",
      "Epoch # 104, NLL Value = 0.6928379404400742\n",
      "Epoch # 105, NLL Value = 0.6928356798418457\n",
      "Epoch # 106, NLL Value = 0.6928335967533972\n",
      "Epoch # 107, NLL Value = 0.6928316772291007\n",
      "Epoch # 108, NLL Value = 0.692829908419809\n",
      "Epoch # 109, NLL Value = 0.6928282784865321\n",
      "Epoch # 110, NLL Value = 0.6928267765209252\n",
      "Epoch # 111, NLL Value = 0.692825392472047\n",
      "Epoch # 112, NLL Value = 0.6928241170788935\n",
      "Epoch # 113, NLL Value = 0.6928229418082494\n"
     ]
    }
   ],
   "source": [
    "epsilon = 10**(-2)\n",
    "epoch_counter = 0\n",
    "p_initial = random.uniform (0.000000000000001,1)\n",
    "tol = 10**(-6)\n",
    "\n",
    "while True:\n",
    "    initial_gradients = del_by_del_bernaulli_nll(p_initial)\n",
    "\n",
    "    p_final = p_initial - (epsilon * initial_gradients)\n",
    "\n",
    "    nll_initial_value = bernaulli_nll(p_initial)\n",
    "    nll_final_value = bernaulli_nll(p_final)\n",
    "\n",
    "    if abs(nll_initial_value - nll_final_value) < tol:\n",
    "        break\n",
    "\n",
    "    epoch_counter += 1\n",
    "    p_initial = p_final\n",
    "\n",
    "    print(\"Epoch # {}, NLL Value = {}\".format(epoch_counter,nll_initial_value))"
   ]
  },
  {
   "cell_type": "code",
   "execution_count": 33,
   "metadata": {},
   "outputs": [
    {
     "data": {
      "text/plain": [
       "np.float64(0.5154195359700207)"
      ]
     },
     "execution_count": 33,
     "metadata": {},
     "output_type": "execute_result"
    }
   ],
   "source": [
    "p_final"
   ]
  },
  {
   "cell_type": "code",
   "execution_count": 9,
   "metadata": {},
   "outputs": [
    {
     "name": "stdout",
     "output_type": "stream",
     "text": [
      "Converged after 14 epochs. Final NLL Value = 23.025850847200097\n"
     ]
    }
   ],
   "source": [
    "print(f\"Converged after {epoch_counter} epochs. Final NLL Value = {nll_initial_value}\")"
   ]
  },
  {
   "cell_type": "code",
   "execution_count": 10,
   "metadata": {},
   "outputs": [
    {
     "ename": "AttributeError",
     "evalue": "module 'scipy.stats' has no attribute 'bernaulli'",
     "output_type": "error",
     "traceback": [
      "\u001b[0;31m---------------------------------------------------------------------------\u001b[0m",
      "\u001b[0;31mAttributeError\u001b[0m                            Traceback (most recent call last)",
      "Cell \u001b[0;32mIn[10], line 1\u001b[0m\n\u001b[0;32m----> 1\u001b[0m sns\u001b[38;5;241m.\u001b[39mdistplot(a\u001b[38;5;241m=\u001b[39mtraining_data[\u001b[38;5;124m\"\u001b[39m\u001b[38;5;124mx\u001b[39m\u001b[38;5;124m\"\u001b[39m],bins\u001b[38;5;241m=\u001b[39m\u001b[38;5;241m10\u001b[39m,fit\u001b[38;5;241m=\u001b[39m\u001b[43ms\u001b[49m\u001b[38;5;241;43m.\u001b[39;49m\u001b[43mbernaulli\u001b[49m,kde\u001b[38;5;241m=\u001b[39m\u001b[38;5;28;01mFalse\u001b[39;00m)\n",
      "\u001b[0;31mAttributeError\u001b[0m: module 'scipy.stats' has no attribute 'bernaulli'"
     ]
    }
   ],
   "source": [
    "sns.distplot(a=training_data[\"x\"],bins=10,fit=s.bernaulli,kde=False)"
   ]
  },
  {
   "cell_type": "code",
   "execution_count": 11,
   "metadata": {},
   "outputs": [
    {
     "data": {
      "image/png": "[encoded data removed]",
      "text/plain": [
       "<Figure size 800x600 with 1 Axes>"
      ]
     },
     "metadata": {},
     "output_type": "display_data"
    }
   ],
   "source": [
    "# Compute the PMF of Bernoulli distribution\n",
    "p = 0.5  # Replace this with your estimated p value\n",
    "x = np.arange(2)  # Bernoulli outcomes are 0 and 1\n",
    "pmf = bernoulli.pmf(x, p)\n",
    "\n",
    "# Plot the histogram\n",
    "plt.figure(figsize=(8, 6))\n",
    "sns.histplot(training_data[\"x\"], bins=2, kde=False, color='skyblue', label='Training Data')\n",
    "\n",
    "# Overlay the Bernoulli PMF\n",
    "plt.plot(x, pmf * len(training_data), 'o', color='red', label='Bernoulli PMF')\n",
    "plt.xlabel('Value')\n",
    "plt.ylabel('Frequency')\n",
    "plt.title('Histogram of Training Data and Bernoulli PMF')\n",
    "plt.legend()\n",
    "plt.show()"
   ]
  },
  {
   "cell_type": "code",
   "execution_count": null,
   "metadata": {},
   "outputs": [],
   "source": []
  }
 ],
 "metadata": {
  "kernelspec": {
   "display_name": "Python 3",
   "language": "python",
   "name": "python3"
  },
  "language_info": {
   "codemirror_mode": {
    "name": "ipython",
    "version": 3
   },
   "file_extension": ".py",
   "mimetype": "text/x-python",
   "name": "python",
   "nbconvert_exporter": "python",
   "pygments_lexer": "ipython3",
   "version": "3.12.1"
  }
 },
 "nbformat": 4,
 "nbformat_minor": 2
}
